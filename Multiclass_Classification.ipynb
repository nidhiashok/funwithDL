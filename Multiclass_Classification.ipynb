{
 "cells": [
  {
   "cell_type": "markdown",
   "metadata": {},
   "source": [
    "## Classifying Newswires: Reuters dataset\n",
    "\n",
    "- Classifying newswires into 46 mutually exclusive topics.\n",
    "- Each data point should be classified into only one category, the problem is single label, multiclass classification.\n",
    "- If each data point could belong to multiple categories, the problem would be Multi label, multiclass classification. "
   ]
  },
  {
   "cell_type": "markdown",
   "metadata": {},
   "source": [
    "### The Reuters Dataset\n",
    "\n",
    "- There are 46 different topics. \n",
    "- Each topic has at least 10 examples."
   ]
  },
  {
   "cell_type": "code",
   "execution_count": 1,
   "metadata": {},
   "outputs": [
    {
     "name": "stderr",
     "output_type": "stream",
     "text": [
      "2024-05-21 20:09:35.301529: I tensorflow/core/platform/cpu_feature_guard.cc:182] This TensorFlow binary is optimized to use available CPU instructions in performance-critical operations.\n",
      "To enable the following instructions: AVX2 FMA, in other operations, rebuild TensorFlow with the appropriate compiler flags.\n"
     ]
    }
   ],
   "source": [
    "# Loading the dataset\n",
    "\n",
    "from keras.datasets import reuters\n",
    "\n",
    "(train_data,train_labels), (test_data,test_labels) = reuters.load_data(num_words=10000)\n",
    "# num_words argument limits the data to top 10000 most frequently used words."
   ]
  },
  {
   "cell_type": "code",
   "execution_count": 2,
   "metadata": {},
   "outputs": [
    {
     "name": "stdout",
     "output_type": "stream",
     "text": [
      "8982\n",
      "2246\n"
     ]
    }
   ],
   "source": [
    "print(len(train_data))\n",
    "print(len(test_data))"
   ]
  },
  {
   "cell_type": "code",
   "execution_count": 3,
   "metadata": {},
   "outputs": [
    {
     "data": {
      "text/plain": [
       "[1,\n",
       " 245,\n",
       " 273,\n",
       " 207,\n",
       " 156,\n",
       " 53,\n",
       " 74,\n",
       " 160,\n",
       " 26,\n",
       " 14,\n",
       " 46,\n",
       " 296,\n",
       " 26,\n",
       " 39,\n",
       " 74,\n",
       " 2979,\n",
       " 3554,\n",
       " 14,\n",
       " 46,\n",
       " 4689,\n",
       " 4329,\n",
       " 86,\n",
       " 61,\n",
       " 3499,\n",
       " 4795,\n",
       " 14,\n",
       " 61,\n",
       " 451,\n",
       " 4329,\n",
       " 17,\n",
       " 12]"
      ]
     },
     "execution_count": 3,
     "metadata": {},
     "output_type": "execute_result"
    }
   ],
   "source": [
    "train_data[10]"
   ]
  },
  {
   "cell_type": "code",
   "execution_count": 4,
   "metadata": {},
   "outputs": [],
   "source": [
    "# decoding back to newswire\n",
    "\n",
    "word_index = reuters.get_word_index()\n",
    "reverse_word_index = dict([(value,key) for (key,value) in word_index.items()])\n",
    "decoded_newswires = ' '.join([reverse_word_index.get(i-3,'?') for i in train_data[0]])\n",
    "\n",
    "# the indices are offset by 3 because 0,1,2 are reserved indices for \"padding\", \"start of sequence\" and \"unknown\"."
   ]
  },
  {
   "cell_type": "code",
   "execution_count": 5,
   "metadata": {},
   "outputs": [
    {
     "data": {
      "text/plain": [
       "'? ? ? said as a result of its december acquisition of space co it expects earnings per share in 1987 of 1 15 to 1 30 dlrs per share up from 70 cts in 1986 the company said pretax net should rise to nine to 10 mln dlrs from six mln dlrs in 1986 and rental operation revenues to 19 to 22 mln dlrs from 12 5 mln dlrs it said cash flow per share this year should be 2 50 to three dlrs reuter 3'"
      ]
     },
     "execution_count": 5,
     "metadata": {},
     "output_type": "execute_result"
    }
   ],
   "source": [
    "decoded_newswires"
   ]
  },
  {
   "cell_type": "code",
   "execution_count": 6,
   "metadata": {},
   "outputs": [],
   "source": [
    "# Preparing the data\n",
    "\n",
    "import numpy as np\n",
    "\n",
    "# Turning the list of integers into tensors by the method of onehot encoding to feed into NN.\n",
    "\n",
    "def vectorize_sequences(sequences,dimension=10000):\n",
    "    results = np.zeros((len(sequences),dimension))\n",
    "    for i, sequence in enumerate(sequences):\n",
    "        results[i,sequence] = 1.\n",
    "    return results\n",
    "\n",
    "x_train = vectorize_sequences(train_data)\n",
    "x_test = vectorize_sequences(test_data)"
   ]
  },
  {
   "cell_type": "code",
   "execution_count": 7,
   "metadata": {},
   "outputs": [],
   "source": [
    "# one hot encoding the labels\n",
    "\n",
    "def to_one_hot(labels,dimension=46):\n",
    "    results = np.zeros((len(labels),dimension))\n",
    "    for i, label in enumerate(labels):\n",
    "        results[i,label] = 1.\n",
    "    return results\n",
    "\n",
    "one_hot_train_labels = to_one_hot(train_labels)\n",
    "one_hot_test_labels = to_one_hot(test_labels)"
   ]
  },
  {
   "cell_type": "markdown",
   "metadata": {},
   "source": [
    "#### Built in way to one hot encode labels\n",
    "\n",
    "- from keras.utils.np_utils import to_categorical\n",
    "\n",
    "- one_hot_train_labels = to_categorical(train_labels)\n",
    "- one_hot_test_labels = to_categorical(test_labels)"
   ]
  },
  {
   "cell_type": "code",
   "execution_count": 8,
   "metadata": {},
   "outputs": [],
   "source": [
    "# Building Network\n",
    "\n",
    "from keras import models\n",
    "from keras import layers\n",
    "\n",
    "model = models.Sequential()\n",
    "model.add(layers.Dense(64,activation='relu',input_shape=(10000,)))\n",
    "model.add(layers.Dense(64,activation='relu'))\n",
    "model.add(layers.Dense(46,activation='softmax'))\n",
    "\n",
    "model.compile(optimizer='rmsprop',loss='categorical_crossentropy',metrics=['accuracy'])"
   ]
  },
  {
   "cell_type": "code",
   "execution_count": 9,
   "metadata": {},
   "outputs": [],
   "source": [
    "# Validating approach\n",
    "\n",
    "x_val = x_train[:1000]\n",
    "partial_x_train = x_train[1000:]\n",
    "\n",
    "y_val = one_hot_train_labels[:1000]\n",
    "partial_y_train = one_hot_train_labels[1000:]"
   ]
  },
  {
   "cell_type": "code",
   "execution_count": 10,
   "metadata": {},
   "outputs": [
    {
     "name": "stdout",
     "output_type": "stream",
     "text": [
      "Epoch 1/20\n",
      "16/16 [==============================] - 1s 40ms/step - loss: 2.6539 - accuracy: 0.4875 - val_loss: 1.8069 - val_accuracy: 0.6370\n",
      "Epoch 2/20\n",
      "16/16 [==============================] - 0s 20ms/step - loss: 1.5329 - accuracy: 0.6839 - val_loss: 1.3910 - val_accuracy: 0.6950\n",
      "Epoch 3/20\n",
      "16/16 [==============================] - 0s 21ms/step - loss: 1.1820 - accuracy: 0.7481 - val_loss: 1.2004 - val_accuracy: 0.7360\n",
      "Epoch 4/20\n",
      "16/16 [==============================] - 0s 20ms/step - loss: 0.9570 - accuracy: 0.7969 - val_loss: 1.0962 - val_accuracy: 0.7620\n",
      "Epoch 5/20\n",
      "16/16 [==============================] - 0s 21ms/step - loss: 0.7945 - accuracy: 0.8271 - val_loss: 1.0094 - val_accuracy: 0.7890\n",
      "Epoch 6/20\n",
      "16/16 [==============================] - 0s 21ms/step - loss: 0.6581 - accuracy: 0.8564 - val_loss: 0.9713 - val_accuracy: 0.7910\n",
      "Epoch 7/20\n",
      "16/16 [==============================] - 0s 21ms/step - loss: 0.5520 - accuracy: 0.8824 - val_loss: 0.9324 - val_accuracy: 0.8060\n",
      "Epoch 8/20\n",
      "16/16 [==============================] - 0s 21ms/step - loss: 0.4644 - accuracy: 0.9043 - val_loss: 0.9318 - val_accuracy: 0.8050\n",
      "Epoch 9/20\n",
      "16/16 [==============================] - 0s 21ms/step - loss: 0.3922 - accuracy: 0.9162 - val_loss: 0.9020 - val_accuracy: 0.8090\n",
      "Epoch 10/20\n",
      "16/16 [==============================] - 0s 21ms/step - loss: 0.3403 - accuracy: 0.9260 - val_loss: 0.8922 - val_accuracy: 0.8150\n",
      "Epoch 11/20\n",
      "16/16 [==============================] - 0s 21ms/step - loss: 0.2929 - accuracy: 0.9362 - val_loss: 0.9044 - val_accuracy: 0.8140\n",
      "Epoch 12/20\n",
      "16/16 [==============================] - 0s 21ms/step - loss: 0.2552 - accuracy: 0.9426 - val_loss: 0.8895 - val_accuracy: 0.8240\n",
      "Epoch 13/20\n",
      "16/16 [==============================] - 0s 21ms/step - loss: 0.2245 - accuracy: 0.9476 - val_loss: 0.9357 - val_accuracy: 0.8180\n",
      "Epoch 14/20\n",
      "16/16 [==============================] - 0s 21ms/step - loss: 0.2041 - accuracy: 0.9504 - val_loss: 0.8971 - val_accuracy: 0.8240\n",
      "Epoch 15/20\n",
      "16/16 [==============================] - 0s 20ms/step - loss: 0.1827 - accuracy: 0.9515 - val_loss: 0.9410 - val_accuracy: 0.8140\n",
      "Epoch 16/20\n",
      "16/16 [==============================] - 0s 22ms/step - loss: 0.1704 - accuracy: 0.9541 - val_loss: 0.9321 - val_accuracy: 0.8060\n",
      "Epoch 17/20\n",
      "16/16 [==============================] - 0s 23ms/step - loss: 0.1569 - accuracy: 0.9554 - val_loss: 0.9631 - val_accuracy: 0.8080\n",
      "Epoch 18/20\n",
      "16/16 [==============================] - 0s 22ms/step - loss: 0.1488 - accuracy: 0.9545 - val_loss: 0.9459 - val_accuracy: 0.8210\n",
      "Epoch 19/20\n",
      "16/16 [==============================] - 0s 24ms/step - loss: 0.1368 - accuracy: 0.9583 - val_loss: 0.9600 - val_accuracy: 0.8130\n",
      "Epoch 20/20\n",
      "16/16 [==============================] - 0s 22ms/step - loss: 0.1352 - accuracy: 0.9572 - val_loss: 0.9650 - val_accuracy: 0.8140\n"
     ]
    }
   ],
   "source": [
    "history = model.fit(partial_x_train,partial_y_train,epochs=20, batch_size=512,validation_data=(x_val,y_val))"
   ]
  },
  {
   "cell_type": "code",
   "execution_count": 11,
   "metadata": {},
   "outputs": [
    {
     "data": {
      "image/png": "[encoded data removed]",
      "text/plain": [
       "<Figure size 640x480 with 1 Axes>"
      ]
     },
     "metadata": {},
     "output_type": "display_data"
    }
   ],
   "source": [
    "# Plotting the loss\n",
    "\n",
    "import matplotlib.pyplot as plt\n",
    "\n",
    "loss = history.history['loss']\n",
    "val_loss = history.history['val_loss']\n",
    "\n",
    "epochs = range(1,len(loss)+1)\n",
    "\n",
    "plt.plot(epochs, loss, 'bo', label='Training loss')\n",
    "plt.plot(epochs, val_loss, 'b', label='Validation loss')\n",
    "plt.title('Training and validation loss')\n",
    "plt.xlabel('Epochs')\n",
    "plt.ylabel('Loss')\n",
    "plt.legend()\n",
    "\n",
    "plt.show()"
   ]
  },
  {
   "cell_type": "code",
   "execution_count": 12,
   "metadata": {},
   "outputs": [
    {
     "data": {
      "image/png": "[encoded data removed]",
      "text/plain": [
       "<Figure size 640x480 with 1 Axes>"
      ]
     },
     "metadata": {},
     "output_type": "display_data"
    }
   ],
   "source": [
    "# plotting accuracy\n",
    "\n",
    "acc = history.history['accuracy']\n",
    "val_acc = history.history['val_accuracy']\n",
    "\n",
    "plt.plot(epochs, acc, 'bo', label='Training acc')\n",
    "plt.plot(epochs, val_acc, 'b', label='Validation acc')\n",
    "plt.title('Training and validation accuracy')\n",
    "plt.xlabel('Epochs')\n",
    "plt.ylabel('accuracy')\n",
    "plt.legend()\n",
    "\n",
    "plt.show()"
   ]
  },
  {
   "cell_type": "code",
   "execution_count": 13,
   "metadata": {},
   "outputs": [
    {
     "name": "stdout",
     "output_type": "stream",
     "text": [
      "Epoch 1/9\n",
      "16/16 [==============================] - 1s 37ms/step - loss: 2.7874 - accuracy: 0.4942 - val_loss: 1.8921 - val_accuracy: 0.6320\n",
      "Epoch 2/9\n",
      "16/16 [==============================] - 0s 20ms/step - loss: 1.5662 - accuracy: 0.6802 - val_loss: 1.3896 - val_accuracy: 0.6940\n",
      "Epoch 3/9\n",
      "16/16 [==============================] - 0s 20ms/step - loss: 1.1871 - accuracy: 0.7469 - val_loss: 1.2072 - val_accuracy: 0.7320\n",
      "Epoch 4/9\n",
      "16/16 [==============================] - 0s 20ms/step - loss: 0.9622 - accuracy: 0.7980 - val_loss: 1.0954 - val_accuracy: 0.7680\n",
      "Epoch 5/9\n",
      "16/16 [==============================] - 0s 20ms/step - loss: 0.7877 - accuracy: 0.8380 - val_loss: 1.0273 - val_accuracy: 0.7850\n",
      "Epoch 6/9\n",
      "16/16 [==============================] - 0s 21ms/step - loss: 0.6533 - accuracy: 0.8677 - val_loss: 0.9696 - val_accuracy: 0.7960\n",
      "Epoch 7/9\n",
      "16/16 [==============================] - 0s 21ms/step - loss: 0.5411 - accuracy: 0.8908 - val_loss: 0.9621 - val_accuracy: 0.8000\n",
      "Epoch 8/9\n",
      "16/16 [==============================] - 0s 21ms/step - loss: 0.4529 - accuracy: 0.9062 - val_loss: 0.8843 - val_accuracy: 0.8100\n",
      "Epoch 9/9\n",
      "16/16 [==============================] - 0s 22ms/step - loss: 0.3819 - accuracy: 0.9192 - val_loss: 0.9080 - val_accuracy: 0.8050\n",
      "71/71 [==============================] - 0s 2ms/step - loss: 0.9858 - accuracy: 0.7792\n"
     ]
    }
   ],
   "source": [
    "model = models.Sequential()\n",
    "model.add(layers.Dense(64,activation='relu',input_shape=(10000,)))\n",
    "model.add(layers.Dense(64,activation='relu'))\n",
    "model.add(layers.Dense(46,activation='softmax'))\n",
    "\n",
    "model.compile(optimizer='rmsprop',loss='categorical_crossentropy',metrics=['accuracy'])\n",
    "\n",
    "history = model.fit(partial_x_train,partial_y_train,epochs=9, batch_size=512,validation_data=(x_val,y_val))\n",
    "\n",
    "results = model.evaluate(x_test,one_hot_test_labels)"
   ]
  },
  {
   "cell_type": "code",
   "execution_count": 14,
   "metadata": {},
   "outputs": [
    {
     "data": {
      "text/plain": [
       "[0.9857577681541443, 0.7791629433631897]"
      ]
     },
     "execution_count": 14,
     "metadata": {},
     "output_type": "execute_result"
    }
   ],
   "source": [
    "results"
   ]
  },
  {
   "cell_type": "markdown",
   "metadata": {},
   "source": [
    "### Comparing with a random baseline:\n",
    "\n",
    "Reasons:\n",
    "\n",
    "1. Randomness Check: This code can be used to check how well the shuffling function randomizes the labels. In a well-shuffled list, very few labels should remain in their original positions.\n",
    "\n",
    "2. Sanity Check: In training deep learning models, this kind of shuffling and checking can serve as a sanity check to ensure that there is no unintended order in the data that might bias the model training.\n",
    "\n",
    "3. Data Augmentation and Validation:Sometimes, such tests are conducted to validate the robustness of a model or data pipeline. For example, if a model performs significantly well on a shuffled dataset, it might indicate that the model is not learning meaningful patterns but is instead exploiting some form of data leakage or noise.\n",
    "\n",
    "4. Expectation Setting:The result, which is a float between 0 and 1, indicates the fraction of labels unchanged by shuffling. In a sufficiently large dataset, this value should be low (close to 1/N), indicating effective shuffling. A higher value might indicate inadequate shuffling or inherent ordering in the dataset.\n",
    "\n",
    "- In summary, this code helps in verifying the randomness introduced by shuffling class labels in a multi-class classification setting, providing insights into the effectiveness of shuffling and ensuring that any model trained on this data is not unduly influenced by the original order of the labels."
   ]
  },
  {
   "cell_type": "code",
   "execution_count": 15,
   "metadata": {},
   "outputs": [
    {
     "data": {
      "text/plain": [
       "0.19100623330365094"
      ]
     },
     "execution_count": 15,
     "metadata": {},
     "output_type": "execute_result"
    }
   ],
   "source": [
    "import copy\n",
    "test_labels_copy = copy.copy(test_labels)\n",
    "np.random.shuffle(test_labels_copy)\n",
    "hits_array = np.array(test_labels) == np.array(test_labels_copy)\n",
    "float(np.sum(hits_array))/len(test_labels)"
   ]
  },
  {
   "cell_type": "code",
   "execution_count": 16,
   "metadata": {},
   "outputs": [
    {
     "name": "stdout",
     "output_type": "stream",
     "text": [
      "71/71 [==============================] - 0s 2ms/step\n"
     ]
    }
   ],
   "source": [
    "# Predicting on new data\n",
    "\n",
    "predictions = model.predict(x_test)"
   ]
  },
  {
   "cell_type": "code",
   "execution_count": 17,
   "metadata": {},
   "outputs": [
    {
     "data": {
      "text/plain": [
       "(46,)"
      ]
     },
     "execution_count": 17,
     "metadata": {},
     "output_type": "execute_result"
    }
   ],
   "source": [
    "predictions[0].shape"
   ]
  },
  {
   "cell_type": "code",
   "execution_count": 18,
   "metadata": {},
   "outputs": [
    {
     "data": {
      "text/plain": [
       "0.9999998"
      ]
     },
     "execution_count": 18,
     "metadata": {},
     "output_type": "execute_result"
    }
   ],
   "source": [
    "np.sum(predictions[0])"
   ]
  },
  {
   "cell_type": "code",
   "execution_count": 19,
   "metadata": {},
   "outputs": [
    {
     "data": {
      "text/plain": [
       "4"
      ]
     },
     "execution_count": 19,
     "metadata": {},
     "output_type": "execute_result"
    }
   ],
   "source": [
    "np.argmax(predictions[0])"
   ]
  },
  {
   "cell_type": "code",
   "execution_count": 21,
   "metadata": {},
   "outputs": [
    {
     "name": "stdout",
     "output_type": "stream",
     "text": [
      "Epoch 1/20\n",
      "63/63 [==============================] - 2s 16ms/step - loss: 2.9095 - accuracy: 0.3420 - val_loss: 2.2658 - val_accuracy: 0.3550\n",
      "Epoch 2/20\n",
      "63/63 [==============================] - 1s 11ms/step - loss: 2.0141 - accuracy: 0.4643 - val_loss: 1.8003 - val_accuracy: 0.5440\n",
      "Epoch 3/20\n",
      "63/63 [==============================] - 1s 12ms/step - loss: 1.6626 - accuracy: 0.5748 - val_loss: 1.6235 - val_accuracy: 0.5900\n",
      "Epoch 4/20\n",
      "63/63 [==============================] - 1s 11ms/step - loss: 1.4812 - accuracy: 0.6041 - val_loss: 1.5421 - val_accuracy: 0.5950\n",
      "Epoch 5/20\n",
      "63/63 [==============================] - 1s 11ms/step - loss: 1.3571 - accuracy: 0.6292 - val_loss: 1.5004 - val_accuracy: 0.6040\n",
      "Epoch 6/20\n",
      "63/63 [==============================] - 1s 11ms/step - loss: 1.2596 - accuracy: 0.6671 - val_loss: 1.4582 - val_accuracy: 0.6620\n",
      "Epoch 7/20\n",
      "63/63 [==============================] - 1s 11ms/step - loss: 1.1708 - accuracy: 0.7070 - val_loss: 1.4267 - val_accuracy: 0.6710\n",
      "Epoch 8/20\n",
      "63/63 [==============================] - 1s 11ms/step - loss: 1.0478 - accuracy: 0.7334 - val_loss: 1.3726 - val_accuracy: 0.6870\n",
      "Epoch 9/20\n",
      "63/63 [==============================] - 1s 11ms/step - loss: 0.9464 - accuracy: 0.7601 - val_loss: 1.3666 - val_accuracy: 0.6950\n",
      "Epoch 10/20\n",
      "63/63 [==============================] - 1s 11ms/step - loss: 0.8709 - accuracy: 0.7742 - val_loss: 1.3583 - val_accuracy: 0.7000\n",
      "Epoch 11/20\n",
      "63/63 [==============================] - 1s 11ms/step - loss: 0.8084 - accuracy: 0.7865 - val_loss: 1.3880 - val_accuracy: 0.6860\n",
      "Epoch 12/20\n",
      "63/63 [==============================] - 1s 11ms/step - loss: 0.7562 - accuracy: 0.8016 - val_loss: 1.3575 - val_accuracy: 0.7020\n",
      "Epoch 13/20\n",
      "63/63 [==============================] - 1s 11ms/step - loss: 0.7115 - accuracy: 0.8136 - val_loss: 1.4185 - val_accuracy: 0.7060\n",
      "Epoch 14/20\n",
      "63/63 [==============================] - 1s 11ms/step - loss: 0.6694 - accuracy: 0.8239 - val_loss: 1.4411 - val_accuracy: 0.7050\n",
      "Epoch 15/20\n",
      "63/63 [==============================] - 1s 11ms/step - loss: 0.6349 - accuracy: 0.8306 - val_loss: 1.4504 - val_accuracy: 0.7080\n",
      "Epoch 16/20\n",
      "63/63 [==============================] - 1s 11ms/step - loss: 0.6051 - accuracy: 0.8339 - val_loss: 1.4588 - val_accuracy: 0.7150\n",
      "Epoch 17/20\n",
      "63/63 [==============================] - 1s 11ms/step - loss: 0.5774 - accuracy: 0.8390 - val_loss: 1.4885 - val_accuracy: 0.7130\n",
      "Epoch 18/20\n",
      "63/63 [==============================] - 1s 11ms/step - loss: 0.5506 - accuracy: 0.8400 - val_loss: 1.5487 - val_accuracy: 0.7040\n",
      "Epoch 19/20\n",
      "63/63 [==============================] - 1s 11ms/step - loss: 0.5310 - accuracy: 0.8452 - val_loss: 1.5530 - val_accuracy: 0.7120\n",
      "Epoch 20/20\n",
      "63/63 [==============================] - 1s 11ms/step - loss: 0.5114 - accuracy: 0.8524 - val_loss: 1.5929 - val_accuracy: 0.7140\n"
     ]
    },
    {
     "data": {
      "text/plain": [
       "<keras.src.callbacks.History at 0x7f921a706bb0>"
      ]
     },
     "execution_count": 21,
     "metadata": {},
     "output_type": "execute_result"
    }
   ],
   "source": [
    "# building model\n",
    "\n",
    "model = models.Sequential()\n",
    "model.add(layers.Dense(64,activation='relu',input_shape=(10000,)))\n",
    "model.add(layers.Dense(4,activation='relu'))\n",
    "model.add(layers.Dense(46,activation='softmax'))\n",
    "\n",
    "model.compile(optimizer='rmsprop',loss='categorical_crossentropy',metrics=['accuracy'])\n",
    "\n",
    "model.fit(partial_x_train,partial_y_train, epochs=20,batch_size=128,validation_data=(x_val,y_val))"
   ]
  },
  {
   "cell_type": "markdown",
   "metadata": {},
   "source": [
    "- The 8% drop can be justified as the compression of a lot of information into an intermediate low dimensional space from seperation hyperplanes of 46 dimensions."
   ]
  },
  {
   "cell_type": "markdown",
   "metadata": {},
   "source": [
    "#### Take aways\n",
    "- For classification of n classes, the network should end with Dense layer of size n.\n",
    "- The network should end with softmax activation, so that the output will be a probability distribution over n classes.\n",
    "- Loss function used is categorical crossentropy as it minimises the distance between output probability distribution and true distribution of targets.\n",
    "- Two ways to handle categorical encoding in multiclass classification:\n",
    "    - Categorical encoding (one hot encoding) and loss function is categorical_crossentropy.\n",
    "    - Encoding the labels as integers and using sparse_categorical_crossentropy as loss function.\n",
    "- information bottleneck should be avoided in the network caused by too small intermediate layers. "
   ]
  }
 ],
 "metadata": {
  "kernelspec": {
   "display_name": "Python 3 (ipykernel)",
   "language": "python",
   "name": "python3"
  },
  "language_info": {
   "codemirror_mode": {
    "name": "ipython",
    "version": 3
   },
   "file_extension": ".py",
   "mimetype": "text/x-python",
   "name": "python",
   "nbconvert_exporter": "python",
   "pygments_lexer": "ipython3",
   "version": "3.8.19"
  }
 },
 "nbformat": 4,
 "nbformat_minor": 4
}
