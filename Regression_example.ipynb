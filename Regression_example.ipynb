{
 "cells": [
  {
   "cell_type": "markdown",
   "id": "5a496df0-918b-4fdc-8dd9-17e458f0cb43",
   "metadata": {},
   "source": [
    "## Boston Housing Data: Regression example\n",
    "- Attempt to predict the median price of homes in given suburb in mid 1970s. Range between $10000  to  $50000\n",
    "- total data point 506, split into training of 404 and testing 102.\n",
    "- Each feature of the input has different scale. Total 13 numerical features."
   ]
  },
  {
   "cell_type": "code",
   "execution_count": 1,
   "id": "5741ba59",
   "metadata": {},
   "outputs": [
    {
     "name": "stderr",
     "output_type": "stream",
     "text": [
      "2024-06-01 21:53:40.210320: I tensorflow/core/platform/cpu_feature_guard.cc:182] This TensorFlow binary is optimized to use available CPU instructions in performance-critical operations.\n",
      "To enable the following instructions: AVX2 FMA, in other operations, rebuild TensorFlow with the appropriate compiler flags.\n"
     ]
    }
   ],
   "source": [
    "from keras.datasets import boston_housing"
   ]
  },
  {
   "cell_type": "code",
   "execution_count": 2,
   "id": "a597d9fd",
   "metadata": {},
   "outputs": [
    {
     "name": "stdout",
     "output_type": "stream",
     "text": [
      "Downloading data from https://storage.googleapis.com/tensorflow/tf-keras-datasets/boston_housing.npz\n",
      "57026/57026 [==============================] - 0s 5us/step\n"
     ]
    }
   ],
   "source": [
    "(train_data, train_targets),(test_data, test_targets) = boston_housing.load_data()"
   ]
  },
  {
   "cell_type": "code",
   "execution_count": 3,
   "id": "f0311d47-98e9-45cb-b004-b79c864fbc2e",
   "metadata": {},
   "outputs": [
    {
     "data": {
      "text/plain": [
       "(404, 13)"
      ]
     },
     "execution_count": 3,
     "metadata": {},
     "output_type": "execute_result"
    }
   ],
   "source": [
    "train_data.shape"
   ]
  },
  {
   "cell_type": "code",
   "execution_count": 4,
   "id": "8e81f200-2228-4f93-8821-5f8c72374dd4",
   "metadata": {},
   "outputs": [
    {
     "data": {
      "text/plain": [
       "(102, 13)"
      ]
     },
     "execution_count": 4,
     "metadata": {},
     "output_type": "execute_result"
    }
   ],
   "source": [
    "test_data.shape"
   ]
  },
  {
   "cell_type": "code",
   "execution_count": 5,
   "id": "99af3fc1-331a-40fe-8d0e-3608139ad318",
   "metadata": {},
   "outputs": [
    {
     "data": {
      "text/plain": [
       "array([15.2, 42.3, 50. , 21.1, 17.7, 18.5, 11.3, 15.6, 15.6, 14.4, 12.1,\n",
       "       17.9, 23.1, 19.9, 15.7,  8.8, 50. , 22.5, 24.1, 27.5, 10.9, 30.8,\n",
       "       32.9, 24. , 18.5, 13.3, 22.9, 34.7, 16.6, 17.5, 22.3, 16.1, 14.9,\n",
       "       23.1, 34.9, 25. , 13.9, 13.1, 20.4, 20. , 15.2, 24.7, 22.2, 16.7,\n",
       "       12.7, 15.6, 18.4, 21. , 30.1, 15.1, 18.7,  9.6, 31.5, 24.8, 19.1,\n",
       "       22. , 14.5, 11. , 32. , 29.4, 20.3, 24.4, 14.6, 19.5, 14.1, 14.3,\n",
       "       15.6, 10.5,  6.3, 19.3, 19.3, 13.4, 36.4, 17.8, 13.5, 16.5,  8.3,\n",
       "       14.3, 16. , 13.4, 28.6, 43.5, 20.2, 22. , 23. , 20.7, 12.5, 48.5,\n",
       "       14.6, 13.4, 23.7, 50. , 21.7, 39.8, 38.7, 22.2, 34.9, 22.5, 31.1,\n",
       "       28.7, 46. , 41.7, 21. , 26.6, 15. , 24.4, 13.3, 21.2, 11.7, 21.7,\n",
       "       19.4, 50. , 22.8, 19.7, 24.7, 36.2, 14.2, 18.9, 18.3, 20.6, 24.6,\n",
       "       18.2,  8.7, 44. , 10.4, 13.2, 21.2, 37. , 30.7, 22.9, 20. , 19.3,\n",
       "       31.7, 32. , 23.1, 18.8, 10.9, 50. , 19.6,  5. , 14.4, 19.8, 13.8,\n",
       "       19.6, 23.9, 24.5, 25. , 19.9, 17.2, 24.6, 13.5, 26.6, 21.4, 11.9,\n",
       "       22.6, 19.6,  8.5, 23.7, 23.1, 22.4, 20.5, 23.6, 18.4, 35.2, 23.1,\n",
       "       27.9, 20.6, 23.7, 28. , 13.6, 27.1, 23.6, 20.6, 18.2, 21.7, 17.1,\n",
       "        8.4, 25.3, 13.8, 22.2, 18.4, 20.7, 31.6, 30.5, 20.3,  8.8, 19.2,\n",
       "       19.4, 23.1, 23. , 14.8, 48.8, 22.6, 33.4, 21.1, 13.6, 32.2, 13.1,\n",
       "       23.4, 18.9, 23.9, 11.8, 23.3, 22.8, 19.6, 16.7, 13.4, 22.2, 20.4,\n",
       "       21.8, 26.4, 14.9, 24.1, 23.8, 12.3, 29.1, 21. , 19.5, 23.3, 23.8,\n",
       "       17.8, 11.5, 21.7, 19.9, 25. , 33.4, 28.5, 21.4, 24.3, 27.5, 33.1,\n",
       "       16.2, 23.3, 48.3, 22.9, 22.8, 13.1, 12.7, 22.6, 15. , 15.3, 10.5,\n",
       "       24. , 18.5, 21.7, 19.5, 33.2, 23.2,  5. , 19.1, 12.7, 22.3, 10.2,\n",
       "       13.9, 16.3, 17. , 20.1, 29.9, 17.2, 37.3, 45.4, 17.8, 23.2, 29. ,\n",
       "       22. , 18. , 17.4, 34.6, 20.1, 25. , 15.6, 24.8, 28.2, 21.2, 21.4,\n",
       "       23.8, 31. , 26.2, 17.4, 37.9, 17.5, 20. ,  8.3, 23.9,  8.4, 13.8,\n",
       "        7.2, 11.7, 17.1, 21.6, 50. , 16.1, 20.4, 20.6, 21.4, 20.6, 36.5,\n",
       "        8.5, 24.8, 10.8, 21.9, 17.3, 18.9, 36.2, 14.9, 18.2, 33.3, 21.8,\n",
       "       19.7, 31.6, 24.8, 19.4, 22.8,  7.5, 44.8, 16.8, 18.7, 50. , 50. ,\n",
       "       19.5, 20.1, 50. , 17.2, 20.8, 19.3, 41.3, 20.4, 20.5, 13.8, 16.5,\n",
       "       23.9, 20.6, 31.5, 23.3, 16.8, 14. , 33.8, 36.1, 12.8, 18.3, 18.7,\n",
       "       19.1, 29. , 30.1, 50. , 50. , 22. , 11.9, 37.6, 50. , 22.7, 20.8,\n",
       "       23.5, 27.9, 50. , 19.3, 23.9, 22.6, 15.2, 21.7, 19.2, 43.8, 20.3,\n",
       "       33.2, 19.9, 22.5, 32.7, 22. , 17.1, 19. , 15. , 16.1, 25.1, 23.7,\n",
       "       28.7, 37.2, 22.6, 16.4, 25. , 29.8, 22.1, 17.4, 18.1, 30.3, 17.5,\n",
       "       24.7, 12.6, 26.5, 28.7, 13.3, 10.4, 24.4, 23. , 20. , 17.8,  7. ,\n",
       "       11.8, 24.4, 13.8, 19.4, 25.2, 19.4, 19.4, 29.1])"
      ]
     },
     "execution_count": 5,
     "metadata": {},
     "output_type": "execute_result"
    }
   ],
   "source": [
    "train_targets"
   ]
  },
  {
   "cell_type": "markdown",
   "id": "cc5960d3-cfd1-4c10-b163-ab1317852c55",
   "metadata": {},
   "source": [
    "### Preparing the dataset\n",
    "\n",
    "- Since the features are wildly different in range, feature-wise normalisation is applied\n",
    "- All the features will be centered at 0 and has unit standard deviation."
   ]
  },
  {
   "cell_type": "code",
   "execution_count": 6,
   "id": "88318018-117f-48a6-ba84-a4b4131610ef",
   "metadata": {},
   "outputs": [],
   "source": [
    "mean = train_data.mean(axis=0)\n",
    "train_data -= mean\n",
    "std = train_data.std(axis=0)\n",
    "train_data /= std\n",
    "\n",
    "test_data -= mean\n",
    "test_data /= std\n",
    "\n",
    "# In the workflow any quantity computed on the test data, even something as simple as normalization should never be used.\n",
    "# mean and std calculated on train data is used on test data."
   ]
  },
  {
   "cell_type": "markdown",
   "id": "b87516f4-4081-4211-819d-4cb5106f90a3",
   "metadata": {},
   "source": [
    "### Building the network\n",
    "- small sample size, hence small network with two hidden layers, each with 64 units.\n",
    "- Less training data, worse overfitting, mitigate overfit by small network.\n",
    "- Network end with a single unit and no activation as it would constrain the range of the value output can take.\n",
    "- typical setup for scalar regression (trying to predict single continuous value)\n",
    "- loss is monitored using MSE for regression problems.\n",
    "- And metrics used is MAE. If MAE is 0.5 it indicates the predictions to be off by 500 dollars on average."
   ]
  },
  {
   "cell_type": "code",
   "execution_count": 7,
   "id": "fa333e11-e3d3-4242-94d6-c14dab490e7f",
   "metadata": {},
   "outputs": [],
   "source": [
    "from keras import models\n",
    "from keras import layers"
   ]
  },
  {
   "cell_type": "code",
   "execution_count": 8,
   "id": "7430e021-8b4e-4ce4-a495-891308ad4625",
   "metadata": {},
   "outputs": [],
   "source": [
    "def build_model():      # Because we need to instantiate the model multiple times a function is used to construct it.\n",
    "    model = models.Sequential()\n",
    "    model.add(layers.Dense(64,activation='relu',input_shape=(train_data.shape[1],)))\n",
    "    model.add(layers.Dense(64,activation='relu'))\n",
    "    model.add(layers.Dense(1))\n",
    "    model.compile(optimizer='rmsprop', loss='mse',metrics=['mae'])\n",
    "    return model"
   ]
  },
  {
   "cell_type": "markdown",
   "id": "f2ea118e-1e0f-4fe0-8ad4-9b6e6029b759",
   "metadata": {},
   "source": [
    "### Validating using K-fold validation\n",
    "\n",
    "- Due to small size of dataset the validation set split will turn out to be small.\n",
    "- The validation score might end up with a high variance with regrad to validation split.\n",
    "- This can be avoided by using K-fold cross validation.\n",
    "\n",
    "#### K-fold quick glance\n",
    "- Split the available data into k-partitions.\n",
    "- Instantiate k identical models.\n",
    "- Train each model on k-1 partition and evaluate on remaining partition.\n",
    "- calculate average of k validation scores obtained."
   ]
  },
  {
   "cell_type": "code",
   "execution_count": 11,
   "id": "3a0897b1-92b5-4d5e-99b8-c70133c52c7d",
   "metadata": {},
   "outputs": [
    {
     "name": "stdout",
     "output_type": "stream",
     "text": [
      "processing fold # 0\n",
      "processing fold # 1\n",
      "processing fold # 2\n",
      "processing fold # 3\n"
     ]
    }
   ],
   "source": [
    "import numpy as np\n",
    "\n",
    "k=4\n",
    "num_val_samples = len(train_data)//k\n",
    "num_epochs = 100\n",
    "all_scores = []\n",
    "\n",
    "for i in range(k):\n",
    "    # prepare the validation data: data from partition #k\n",
    "    print('processing fold #', i)\n",
    "    val_data = train_data[i * num_val_samples: (i+1) * num_val_samples]\n",
    "    val_targets = train_targets[i * num_val_samples: (i+1) * num_val_samples]\n",
    "    #prepare training data: data from other partitions\n",
    "    partial_train_data = np.concatenate(\n",
    "        [train_data[:i * num_val_samples],\n",
    "         train_data[(i+1) * num_val_samples:]],\n",
    "         axis=0)\n",
    "    partial_train_targets = np.concatenate(\n",
    "        [train_targets[:i*num_val_samples],\n",
    "         train_targets[(i+1) * num_val_samples:]],\n",
    "         axis=0)\n",
    "    #Builds the already compiled keras model\n",
    "    model = build_model()\n",
    "    model.fit(partial_train_data,partial_train_targets,epochs=num_epochs,batch_size=1,verbose=0) # trains the model\n",
    "    val_mse, val_mae = model.evaluate(val_data, val_targets, verbose=0) #validates the model\n",
    "    all_scores.append(val_mae)"
   ]
  },
  {
   "cell_type": "code",
   "execution_count": 12,
   "id": "02624fb0-3a2f-4c1a-b16d-7ebc34bd45cc",
   "metadata": {},
   "outputs": [
    {
     "data": {
      "text/plain": [
       "[2.3684332370758057, 2.489269256591797, 2.6077091693878174, 2.640620470046997]"
      ]
     },
     "execution_count": 12,
     "metadata": {},
     "output_type": "execute_result"
    }
   ],
   "source": [
    "all_scores"
   ]
  },
  {
   "cell_type": "code",
   "execution_count": 13,
   "id": "de3f3171-49c2-43e6-bd0d-b2c6609ae5e9",
   "metadata": {},
   "outputs": [
    {
     "data": {
      "text/plain": [
       "2.5265080332756042"
      ]
     },
     "execution_count": 13,
     "metadata": {},
     "output_type": "execute_result"
    }
   ],
   "source": [
    "np.mean(all_scores)"
   ]
  },
  {
   "cell_type": "markdown",
   "id": "8323cc9a-fa86-4c59-9199-0fd3eebe06f7",
   "metadata": {},
   "source": [
    "The interpretation that the model's predictions are off by approximately $2500 on average comes from the Mean Absolute Error (MAE) values. Let's go through the reasoning and how this conclusion is reached step by step.\n",
    "\n",
    "##### Understanding the Boston Housing Dataset\n",
    "The Boston Housing dataset contains information about housing prices in Boston suburbs, along with various features that might influence these prices (e.g., crime rate, number of rooms, etc.). The target variable is the median value of owner-occupied homes in $1000s.\n",
    "\n",
    "##### Mean Absolute Error (MAE)\n",
    "The MAE values you provided are around 2.368 to 2.641. In the context of the Boston Housing dataset, the target variable (median value of owner-occupied homes) is measured in $1000s.\n",
    "\n",
    "##### Calculating the Average MAE\n",
    "From the output of the k-fold validation:\n",
    "\\[ \\text{Average MAE} = \\frac{2.368 + 2.489 + 2.608 + 2.641}{4} = 2.526 \\]\n",
    "\n",
    "##### Interpreting the MAE in the Context of the Dataset\n",
    "Since the target values in the Boston Housing dataset are in units of $1000s, an MAE of approximately 2.526 means that, on average, the predictions are off by 2.526 units of $1000s.\n",
    "\n",
    "##### Converting to Dollars\n",
    "To convert this to dollars:\n",
    "\\[ \\text{Average Error in Dollars} = 2.526 \\times 1000 = 2526 \\]\n",
    "\n",
    "##### Conclusion\n",
    "Therefore, the statement that the output is off by approximately $2500 on average is derived from the fact that the average MAE is around 2.526 (in units of $1000s), which translates to approximately $2526. This means that on average, the predicted house prices are about $2526 away from the actual prices. This is a reasonable conclusion given the provided MAE values and the nature of the target variable in the dataset."
   ]
  },
  {
   "cell_type": "code",
   "execution_count": 17,
   "id": "91a26dc7-6dd4-423c-b057-99898c7c543f",
   "metadata": {},
   "outputs": [
    {
     "name": "stdout",
     "output_type": "stream",
     "text": [
      "processing fold # 0\n",
      "processing fold # 1\n",
      "processing fold # 2\n",
      "processing fold # 3\n"
     ]
    }
   ],
   "source": [
    "# Saving Validation logs at each fold\n",
    "\n",
    "num_epochs = 500\n",
    "all_mae_histories = []\n",
    "for i in range(k):\n",
    "    # prepare the validation data: partitions #k\n",
    "     print('processing fold #', i)\n",
    "     val_data = train_data[i * num_val_samples: (i+1) * num_val_samples]\n",
    "     val_targets = train_targets[i * num_val_samples: (i+1) * num_val_samples]\n",
    "    #prepare training data: data from other partitions\n",
    "     partial_train_data = np.concatenate(\n",
    "        [train_data[:i * num_val_samples],\n",
    "         train_data[(i+1) * num_val_samples:]],\n",
    "         axis=0)\n",
    "     partial_train_targets = np.concatenate(\n",
    "        [train_targets[:i*num_val_samples],\n",
    "         train_targets[(i+1) * num_val_samples:]],\n",
    "         axis=0)\n",
    "    #Builds the already compiled keras model\n",
    "     model = build_model()\n",
    "     history = model.fit(partial_train_data,partial_train_targets,validation_data=(val_data,val_targets),epochs=num_epochs,batch_size=1,verbose=0) # trains the model\n",
    "     mae_history = history.history['val_mae']\n",
    "     all_mae_histories.append(mae_history)"
   ]
  },
  {
   "cell_type": "code",
   "execution_count": 18,
   "id": "1832bd10-1218-4a3e-9076-267d15d465d6",
   "metadata": {},
   "outputs": [],
   "source": [
    "average_mae_history = [ np.mean([x[i] for x in all_mae_histories]) for i in range(num_epochs)]"
   ]
  },
  {
   "cell_type": "code",
   "execution_count": 20,
   "id": "9ae3bc4c-1525-46f0-96f0-58b8479ca798",
   "metadata": {},
   "outputs": [
    {
     "data": {
      "image/png": "[encoded data removed]",
      "text/plain": [
       "<Figure size 640x480 with 1 Axes>"
      ]
     },
     "metadata": {},
     "output_type": "display_data"
    }
   ],
   "source": [
    "import matplotlib.pyplot as plt\n",
    "\n",
    "plt.plot(range(1, len(average_mae_history)+1),average_mae_history)\n",
    "plt.xlabel('Epochs')\n",
    "plt.ylabel('Validation MAE')\n",
    "plt.show()"
   ]
  },
  {
   "cell_type": "code",
   "execution_count": 21,
   "id": "4a869cb3-18a5-470c-a573-c96500b3147f",
   "metadata": {},
   "outputs": [
    {
     "data": {
      "image/png": "[encoded data removed]",
      "text/plain": [
       "<Figure size 640x480 with 1 Axes>"
      ]
     },
     "metadata": {},
     "output_type": "display_data"
    }
   ],
   "source": [
    "# smoothning the curve by dropping first 10 data points as the scale are different and replacing each point with moving average of previous points\n",
    "\n",
    "def smooth_curve(points, factor=0.9):\n",
    "    smoothed_points = []\n",
    "    for point in points:\n",
    "        if smoothed_points:\n",
    "            previous = smoothed_points[-1]\n",
    "            smoothed_points.append(previous * factor + point * (1 - factor))\n",
    "        else:\n",
    "            smoothed_points.append(point)\n",
    "    return smoothed_points\n",
    "\n",
    "smooth_mae_history = smooth_curve(average_mae_history[10:])\n",
    "\n",
    "plt.plot(range(1, len(smooth_mae_history) +1),smooth_mae_history)\n",
    "plt.xlabel('Epochs')\n",
    "plt.ylabel('Validation MAE')\n",
    "plt.show()"
   ]
  },
  {
   "cell_type": "code",
   "execution_count": 24,
   "id": "a383ebc5-f7d0-4d64-af8d-d945693fbf2a",
   "metadata": {},
   "outputs": [
    {
     "name": "stdout",
     "output_type": "stream",
     "text": [
      "4/4 [==============================] - 0s 3ms/step - loss: 19.2609 - mae: 2.7724\n"
     ]
    }
   ],
   "source": [
    "# Training the final model\n",
    "\n",
    "model =  build_model()\n",
    "model.fit(train_data,train_targets, epochs= 80, batch_size =16, verbose=0)\n",
    "test_mse_score, test_mae_score = model.evaluate(test_data, test_targets)"
   ]
  },
  {
   "cell_type": "code",
   "execution_count": 25,
   "id": "aad055af-7823-45fb-bd95-eaed8ba0d2ef",
   "metadata": {},
   "outputs": [
    {
     "data": {
      "text/plain": [
       "2.772376775741577"
      ]
     },
     "execution_count": 25,
     "metadata": {},
     "output_type": "execute_result"
    }
   ],
   "source": [
    "test_mae_score"
   ]
  },
  {
   "cell_type": "markdown",
   "id": "a0c594c7-cacd-4952-92b4-eaa4c6958f95",
   "metadata": {},
   "source": [
    "- Still off by $2772.\n",
    "\n",
    "#### Key take away\n",
    "- The loss function for regression is different from classification.\n",
    "- Mean Squared Error is the loss function commonly used for regression.\n",
    "- The evaluation metric used for regression is Mean Absolute Error.\n",
    "- Each feature should be scaled independently in preprocessing, to not let different ranges affect.\n",
    "- K-fold validation is a great way to reliably evaluate a small dataset.\n",
    "- When training data is small, using small neural networks"
   ]
  }
 ],
 "metadata": {
  "kernelspec": {
   "display_name": "Python 3 (ipykernel)",
   "language": "python",
   "name": "python3"
  },
  "language_info": {
   "codemirror_mode": {
    "name": "ipython",
    "version": 3
   },
   "file_extension": ".py",
   "mimetype": "text/x-python",
   "name": "python",
   "nbconvert_exporter": "python",
   "pygments_lexer": "ipython3",
   "version": "3.8.19"
  }
 },
 "nbformat": 4,
 "nbformat_minor": 5
}
